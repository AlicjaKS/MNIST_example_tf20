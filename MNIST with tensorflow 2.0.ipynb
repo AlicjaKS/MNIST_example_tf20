{
 "cells": [
  {
   "cell_type": "markdown",
   "metadata": {},
   "source": [
    "Dataset is called MNIST and it refers to handwritten digit recognition. More here: http://yann.lecun.com/exdb/mnist/\n",
    "Dataset contain 70 000 images in resolution 28x28 pixels.\n",
    "Goals: \n",
    "- write an algorithm that detects digit\n",
    "- build a NN with 2 hidden layers "
   ]
  },
  {
   "cell_type": "markdown",
   "metadata": {},
   "source": [
    "#### Import packages and loading the data:"
   ]
  },
  {
   "cell_type": "code",
   "execution_count": 34,
   "metadata": {},
   "outputs": [],
   "source": [
    "import numpy as np \n",
    "import tensorflow as tf \n",
    "import tensorflow_datasets as tfds "
   ]
  },
  {
   "cell_type": "code",
   "execution_count": 35,
   "metadata": {},
   "outputs": [
    {
     "name": "stderr",
     "output_type": "stream",
     "text": [
      "WARNING:absl:Warning: Setting shuffle_files=True because split=TRAIN and shuffle_files=None. This behavior will be deprecated on 2019-08-06, at which point shuffle_files=False will be the default for all splits.\n"
     ]
    }
   ],
   "source": [
    "mnist_dataset, mnist_info = tfds.load(name='mnist', with_info=True, as_supervised=True )\n",
    "#tfds.load loads a datasets from tensorflow_datasets \n",
    "#tfds has a large number of datasets so it need argument name='mnist', this also download the data to computer \n",
    "#as_supervide=True loads the dataset in 2-tuple structure (input,target)\n",
    "# with_info=True info about version and features \n"
   ]
  },
  {
   "cell_type": "markdown",
   "metadata": {},
   "source": [
    "#### Preprocess the data:"
   ]
  },
  {
   "cell_type": "code",
   "execution_count": 36,
   "metadata": {},
   "outputs": [],
   "source": [
    "mnist_train, mnist_test = mnist_dataset['train'], mnist_dataset['test']\n",
    "#extract train and test dataset \n",
    "\n",
    "num_validation_samples = 0.1 * mnist_info.splits['train'].num_examples\n",
    "num_validation_samples = tf.cast(num_validation_samples, tf.int64)\n",
    "#extract 10% from dataset for validation dataset \n",
    "#tf.cast(x,dtype) = converts a variable into a given data type \n",
    "\n",
    "num_test_samples = mnist_info.splits['test'].num_examples\n",
    "num_test_samples = tf.cast(num_test_samples, tf.int64)"
   ]
  },
  {
   "cell_type": "code",
   "execution_count": 37,
   "metadata": {},
   "outputs": [],
   "source": [
    "def scale(image, label):\n",
    "    image = tf.cast(image, tf.float32)\n",
    "    image /= 255.\n",
    "    return image, label\n",
    "\n",
    "#image = tf.cast(image, tf.float32) - make sure that all values are floats \n",
    "#image /= 255. image / =255 shades of gray give values from 0 to 1, dot make it to the float \n"
   ]
  },
  {
   "cell_type": "code",
   "execution_count": 38,
   "metadata": {},
   "outputs": [],
   "source": [
    "scaled_train_and_validation_data = mnist_train.map(scale)\n",
    "test_data = mnist_test.map(scale)\n",
    "\n",
    "#dataset.map(*function*) applies a custom transformation to a given dataset\n",
    "#it takes input a function which determines the transformation "
   ]
  },
  {
   "cell_type": "markdown",
   "metadata": {},
   "source": [
    "#### Shuffle and batch: "
   ]
  },
  {
   "cell_type": "markdown",
   "metadata": {},
   "source": [
    "Shuffling the data means that we keeping the data but in a different order. We doing this because it possible that one batch having only \"0\" or only \"1\" as it target. "
   ]
  },
  {
   "cell_type": "code",
   "execution_count": 39,
   "metadata": {},
   "outputs": [],
   "source": [
    "BUFF_SIZE = 10000\n",
    "#instruct tf to shuffle 10000 of variable and then take next 100000 and shuffle again because we dealing with big dataset \n",
    "\n",
    "shuffled_train_and_validation_data = scaled_train_and_validation_data.shuffle(BUFF_SIZE)\n",
    "\n",
    "validation_data = shuffled_train_and_validation_data.take(num_validation_samples)\n",
    "#creating the validation dataset\n",
    "\n",
    "train_data = shuffled_train_and_validation_data.skip(num_validation_samples)\n"
   ]
  },
  {
   "cell_type": "markdown",
   "metadata": {},
   "source": [
    "Batch size should be small comparising to the dataset but high enough, this value can be changed to optimise accuracy and speed of learning. "
   ]
  },
  {
   "cell_type": "code",
   "execution_count": 40,
   "metadata": {},
   "outputs": [],
   "source": [
    "BATCH_SIZE = 100 \n",
    "train_data = train_data.batch(BATCH_SIZE)\n",
    "validation_data = validation_data.batch(num_validation_samples)\n",
    "test_data = test_data.batch(num_test_samples)\n",
    "\n",
    "#train_data.batch(BATCH_SIZE) - combines the consecutive elements from dataset into batches\n",
    "#validation_data = validation_data.batch(num_validation_samples) - creating new column in tensor \n",
    "\n"
   ]
  },
  {
   "cell_type": "markdown",
   "metadata": {},
   "source": [
    "Validation dataset must have the same shape and properties as the train and test datasets:"
   ]
  },
  {
   "cell_type": "code",
   "execution_count": 41,
   "metadata": {},
   "outputs": [],
   "source": [
    "validation_inputs, validation_targets = next(iter(validation_data))\n",
    "#iter() create an object which can be iterated one element at a time\n",
    "#next () loads the next element of an iterable object"
   ]
  },
  {
   "cell_type": "markdown",
   "metadata": {},
   "source": [
    "#### Model: "
   ]
  },
  {
   "cell_type": "markdown",
   "metadata": {},
   "source": [
    "- 784 inputs = 28 pixels x 28 pixels \n",
    "- 10 outputs (0,1,2,3,4,5,6,7,8 or 9) \n",
    "- 2 hidden layers (each size is 50) \n"
   ]
  },
  {
   "cell_type": "code",
   "execution_count": 42,
   "metadata": {},
   "outputs": [],
   "source": [
    "input_size = 784\n",
    "output_size = 10 \n",
    "hidden_layer_size = 50 "
   ]
  },
  {
   "cell_type": "code",
   "execution_count": 43,
   "metadata": {},
   "outputs": [],
   "source": [
    "model = tf.keras.Sequential([\n",
    "                            tf.keras.layers.Flatten(input_shape=(28,28,1)),\n",
    "                            tf.keras.layers.Dense(hidden_layer_size, activation='relu'),\n",
    "                            tf.keras.layers.Dense(hidden_layer_size, activation='relu'),\n",
    "                            tf.keras.layers.Dense(output_size, activation='softmax')\n",
    "                            ])\n",
    "\n",
    "#tf.keras.Sequential() = function that is laying down the model (used to 'stack layers')\n",
    "#tf.keras.layers.Flatten(input_shape=(28,28,1)) - is for each input 28x28x1 \n",
    "##tf.keras.layers.Dense(hidden_layer_size, activation='relu') twice because we have two hidden layers \n",
    "#activation ='relu' and 'softmax' are activation functions, more: https://towardsdatascience.com/activation-functions-neural-networks-1cbd9f8d91d6"
   ]
  },
  {
   "cell_type": "markdown",
   "metadata": {},
   "source": [
    "#### Loss function and optimizer: "
   ]
  },
  {
   "cell_type": "code",
   "execution_count": 49,
   "metadata": {},
   "outputs": [],
   "source": [
    "model.compile(optimizier='adam', loss='sparse_categorical_crossentropy', metrics=['accuracy'])\n",
    "#model.compile(optimizer, loss) configures the model for training\n",
    "#adam - adaptive moment estimation, more: https://towardsdatascience.com/optimisation-algorithm-adaptive-moment-estimation-adam-92144d75e232"
   ]
  },
  {
   "cell_type": "markdown",
   "metadata": {},
   "source": [
    "Loss = \n",
    "\n",
    "- binary_crossentropy - for binary data \n",
    "- caterogical_crossentropy - for onehot encoded the targets\n",
    "- sparse_caterogical_crossentropy - applies one-hot encoding"
   ]
  },
  {
   "cell_type": "markdown",
   "metadata": {},
   "source": [
    "#### Training: "
   ]
  },
  {
   "cell_type": "code",
   "execution_count": 50,
   "metadata": {},
   "outputs": [],
   "source": [
    "number_of_epochs = 5\n",
    "# its arbitrary value "
   ]
  },
  {
   "cell_type": "code",
   "execution_count": 51,
   "metadata": {},
   "outputs": [],
   "source": [
    "VALIDATION_STEPS = num_validation_samples // BATCH_SIZE"
   ]
  },
  {
   "cell_type": "code",
   "execution_count": 52,
   "metadata": {},
   "outputs": [
    {
     "name": "stdout",
     "output_type": "stream",
     "text": [
      "Epoch 1/5\n",
      "540/540 - 92s - loss: 0.0563 - accuracy: 0.9826 - val_loss: 0.0000e+00 - val_accuracy: 0.0000e+00\n",
      "Epoch 2/5\n",
      "540/540 - 88s - loss: 0.0515 - accuracy: 0.9846 - val_loss: 0.0624 - val_accuracy: 0.9808\n",
      "Epoch 3/5\n",
      "540/540 - 73s - loss: 0.0453 - accuracy: 0.9859 - val_loss: 0.0606 - val_accuracy: 0.9807\n",
      "Epoch 4/5\n",
      "540/540 - 56s - loss: 0.0426 - accuracy: 0.9868 - val_loss: 0.0598 - val_accuracy: 0.9818\n",
      "Epoch 5/5\n",
      "540/540 - 57s - loss: 0.0398 - accuracy: 0.9878 - val_loss: 0.0599 - val_accuracy: 0.9818\n"
     ]
    },
    {
     "data": {
      "text/plain": [
       "<tensorflow.python.keras.callbacks.History at 0x65a3b6810>"
      ]
     },
     "execution_count": 52,
     "metadata": {},
     "output_type": "execute_result"
    }
   ],
   "source": [
    "model.fit(train_data, epochs = number_of_epochs, validation_data=(validation_inputs, validation_targets), validation_steps = VALIDATION_STEPS, verbose = 2)"
   ]
  },
  {
   "cell_type": "markdown",
   "metadata": {},
   "source": [
    "values: \n",
    "- loss: should be smaller with every epoch \n",
    "- val_loss: if the value would be higher than epoch before we have overfitting \n",
    "- accuracy: % of the cases where output was the same that target \n",
    "- val_accuracy: true accuracy of the model \n",
    "\n",
    "\n",
    "Now we can still make the model better by changing for example number of hidden layers. It should have val_accuracy more than 98%"
   ]
  },
  {
   "cell_type": "markdown",
   "metadata": {},
   "source": [
    "#### Test:"
   ]
  },
  {
   "cell_type": "code",
   "execution_count": 53,
   "metadata": {},
   "outputs": [
    {
     "name": "stdout",
     "output_type": "stream",
     "text": [
      "1/1 [==============================] - 12s 12s/step - loss: 0.1059 - accuracy: 0.9698\n"
     ]
    }
   ],
   "source": [
    "test_loss, test_accuracy = model.evaluate(test_data)"
   ]
  },
  {
   "cell_type": "markdown",
   "metadata": {},
   "source": [
    "Accuracy is REAL accuracy of our model. Should be lower that accuracy of the validation. Getting a test accuracy very close to the validation accuracy shows that we have not overfit. \n",
    "\n",
    "- After this we can't do any changes in model because after this point the test_data will no longer be a data set that the model has never seen."
   ]
  },
  {
   "cell_type": "code",
   "execution_count": null,
   "metadata": {},
   "outputs": [],
   "source": []
  }
 ],
 "metadata": {
  "kernelspec": {
   "display_name": "Python 3",
   "language": "python",
   "name": "python3"
  },
  "language_info": {
   "codemirror_mode": {
    "name": "ipython",
    "version": 3
   },
   "file_extension": ".py",
   "mimetype": "text/x-python",
   "name": "python",
   "nbconvert_exporter": "python",
   "pygments_lexer": "ipython3",
   "version": "3.7.6"
  }
 },
 "nbformat": 4,
 "nbformat_minor": 2
}
